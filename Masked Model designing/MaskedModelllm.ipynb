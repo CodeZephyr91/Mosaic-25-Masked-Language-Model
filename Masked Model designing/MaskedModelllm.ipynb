{
 "cells": [
  {
   "cell_type": "markdown",
   "id": "76a41d66-6065-4aa2-9df5-0a1d13cca7bc",
   "metadata": {},
   "source": [
    "### NLP Pipleline to be followed-"
   ]
  },
  {
   "cell_type": "markdown",
   "id": "5f867839-58f9-4d27-90ad-5ae54319c624",
   "metadata": {},
   "source": [
    "## - Text Preprocessing\n",
    "## - Word Embeddings(Vectorization of words)\n",
    "## - Deep Learning Model implementation(LSTM)\n",
    "## - Evaluation metrics(Measurement of accuracy)"
   ]
  },
  {
   "cell_type": "code",
   "execution_count": null,
   "id": "ea8067cf-628b-4115-91c1-fbde415e1923",
   "metadata": {},
   "outputs": [],
   "source": []
  }
 ],
 "metadata": {
  "kernelspec": {
   "display_name": "Python 3 (ipykernel)",
   "language": "python",
   "name": "python3"
  },
  "language_info": {
   "codemirror_mode": {
    "name": "ipython",
    "version": 3
   },
   "file_extension": ".py",
   "mimetype": "text/x-python",
   "name": "python",
   "nbconvert_exporter": "python",
   "pygments_lexer": "ipython3",
   "version": "3.12.7"
  }
 },
 "nbformat": 4,
 "nbformat_minor": 5
}
